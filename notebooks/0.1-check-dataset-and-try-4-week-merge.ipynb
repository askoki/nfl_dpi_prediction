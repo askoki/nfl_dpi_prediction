{
 "cells": [
  {
   "cell_type": "code",
   "execution_count": 1,
   "metadata": {},
   "outputs": [],
   "source": [
    "import pandas as pd"
   ]
  },
  {
   "cell_type": "code",
   "execution_count": 2,
   "metadata": {},
   "outputs": [],
   "source": [
    "play_df = pd.read_csv(\"data/plays.csv\")"
   ]
  },
  {
   "cell_type": "code",
   "execution_count": 3,
   "metadata": {},
   "outputs": [],
   "source": [
    "games_df = pd.read_csv(\"data/games.csv\")"
   ]
  },
  {
   "cell_type": "code",
   "execution_count": 4,
   "metadata": {},
   "outputs": [],
   "source": [
    "max_num_weeks = 17\n",
    "week_list = []\n",
    "for i in range(max_num_weeks):\n",
    "    week_list.append(pd.read_csv(f\"data/week{i + 1}.csv\"))"
   ]
  },
  {
   "cell_type": "code",
   "execution_count": 5,
   "metadata": {},
   "outputs": [
    {
     "data": {
      "text/plain": [
       "Index(['gameId', 'playId', 'playDescription', 'quarter', 'down', 'yardsToGo',\n",
       "       'possessionTeam', 'playType', 'yardlineSide', 'yardlineNumber',\n",
       "       'offenseFormation', 'personnelO', 'defendersInTheBox',\n",
       "       'numberOfPassRushers', 'personnelD', 'typeDropback',\n",
       "       'preSnapVisitorScore', 'preSnapHomeScore', 'gameClock',\n",
       "       'absoluteYardlineNumber', 'penaltyCodes', 'penaltyJerseyNumbers',\n",
       "       'passResult', 'offensePlayResult', 'playResult', 'epa',\n",
       "       'isDefensivePI'],\n",
       "      dtype='object')"
      ]
     },
     "execution_count": 5,
     "metadata": {},
     "output_type": "execute_result"
    }
   ],
   "source": [
    "play_df.columns"
   ]
  },
  {
   "cell_type": "code",
   "execution_count": 6,
   "metadata": {},
   "outputs": [
    {
     "data": {
      "text/plain": [
       "DPI         242\n",
       "DH          241\n",
       "RPS         104\n",
       "OPI          96\n",
       "OH           94\n",
       "           ... \n",
       "ICT;DPI       1\n",
       "DSQ           1\n",
       "UNS;UNSd      1\n",
       "RPS;UNR       1\n",
       "OH;IBB        1\n",
       "Name: penaltyCodes, Length: 86, dtype: int64"
      ]
     },
     "execution_count": 6,
     "metadata": {},
     "output_type": "execute_result"
    }
   ],
   "source": [
    "play_df.penaltyCodes.value_counts()"
   ]
  },
  {
   "cell_type": "code",
   "execution_count": 7,
   "metadata": {},
   "outputs": [
    {
     "data": {
      "text/plain": [
       "DPI             259\n",
       "DH              241\n",
       "RPS             104\n",
       "OPI              96\n",
       "OH               94\n",
       "UNRd             58\n",
       "ICT              50\n",
       "DOF              31\n",
       "ING              27\n",
       "FMM              26\n",
       "IBW              23\n",
       "UNR              19\n",
       "ILHd             13\n",
       "UNSd             13\n",
       "IDP              10\n",
       "TAU              10\n",
       "ILF              10\n",
       "ISH               9\n",
       "UNS               9\n",
       "UOHd              8\n",
       "OH;DH             7\n",
       "TAUd              7\n",
       "ITP               4\n",
       "OH;RPS            4\n",
       "DSQd              4\n",
       "DH;OH             4\n",
       "HC                3\n",
       "DOG               3\n",
       "IBB               3\n",
       "TRP               2\n",
       "ILH               2\n",
       "DH;OPI            2\n",
       "DH;UNSd           2\n",
       "ILM               2\n",
       "ICT;ICT           2\n",
       "DH;DH             2\n",
       "DTM               2\n",
       "OPI;OH            2\n",
       "DOF;RPS           2\n",
       "RPS;UNRd          1\n",
       "IBW;OH            1\n",
       "UNRd;UNR          1\n",
       "UNR;UNRd          1\n",
       "FMM;HC            1\n",
       "TAU;TAUd;TAU      1\n",
       "DH;ICT            1\n",
       "ICT;TAU           1\n",
       "RPS;ICT           1\n",
       "RPS;DOF           1\n",
       "TAUd;DH           1\n",
       "OH;DH;OH          1\n",
       "ICT;UNSd          1\n",
       "TAUd;UNSd         1\n",
       "IFP               1\n",
       "ICT;OPI           1\n",
       "OPI;IDP           1\n",
       "ICB               1\n",
       "UNRd;ICT          1\n",
       "OPI;UNS           1\n",
       "OPI;ILF           1\n",
       "UOH               1\n",
       "CHB               1\n",
       "OPI;DH            1\n",
       "DSQ;DSQd          1\n",
       "IBW;ISH           1\n",
       "ILM;DH            1\n",
       "ILH;OH            1\n",
       "DH;ING            1\n",
       "DH;DOF            1\n",
       "OH;OH             1\n",
       "ICT;DH            1\n",
       "UNRd;DH           1\n",
       "DSQ               1\n",
       "UNS;UNSd          1\n",
       "RPS;UNR           1\n",
       "OH;IBB            1\n",
       "Name: penaltyCodes, dtype: int64"
      ]
     },
     "execution_count": 7,
     "metadata": {},
     "output_type": "execute_result"
    }
   ],
   "source": [
    "pd.set_option('display.max_rows', None)\n",
    "\n",
    "play_df.penaltyCodes = play_df.penaltyCodes.replace(to_replace='DPI;(.*)|(.*);DPI', value='DPI', regex=True)\n",
    "play_df.penaltyCodes.value_counts()"
   ]
  },
  {
   "cell_type": "code",
   "execution_count": 8,
   "metadata": {},
   "outputs": [
    {
     "data": {
      "text/plain": [
       "(259, 27)"
      ]
     },
     "execution_count": 8,
     "metadata": {},
     "output_type": "execute_result"
    }
   ],
   "source": [
    "dpi_df = play_df[play_df.penaltyCodes == 'DPI']\n",
    "dpi_df.shape"
   ]
  },
  {
   "cell_type": "code",
   "execution_count": 12,
   "metadata": {},
   "outputs": [
    {
     "data": {
      "text/plain": [
       "Index(['gameId', 'playId', 'playDescription', 'quarter', 'down', 'yardsToGo',\n",
       "       'possessionTeam', 'playType', 'yardlineSide', 'yardlineNumber',\n",
       "       'offenseFormation', 'personnelO', 'defendersInTheBox',\n",
       "       'numberOfPassRushers', 'personnelD', 'typeDropback',\n",
       "       'preSnapVisitorScore', 'preSnapHomeScore', 'gameClock',\n",
       "       'absoluteYardlineNumber', 'penaltyCodes', 'penaltyJerseyNumbers',\n",
       "       'passResult', 'offensePlayResult', 'playResult', 'epa',\n",
       "       'isDefensivePI'],\n",
       "      dtype='object')"
      ]
     },
     "execution_count": 12,
     "metadata": {},
     "output_type": "execute_result"
    }
   ],
   "source": [
    "dpi_df.columns"
   ]
  },
  {
   "cell_type": "code",
   "execution_count": 13,
   "metadata": {},
   "outputs": [
    {
     "data": {
      "text/plain": [
       "Index(['gameId', 'gameDate', 'gameTimeEastern', 'homeTeamAbbr',\n",
       "       'visitorTeamAbbr', 'week'],\n",
       "      dtype='object')"
      ]
     },
     "execution_count": 13,
     "metadata": {},
     "output_type": "execute_result"
    }
   ],
   "source": [
    "games_df.columns"
   ]
  },
  {
   "cell_type": "code",
   "execution_count": 14,
   "metadata": {},
   "outputs": [
    {
     "data": {
      "text/plain": [
       "Index(['gameId', 'playId', 'playDescription', 'quarter', 'down', 'yardsToGo',\n",
       "       'possessionTeam', 'playType', 'yardlineSide', 'yardlineNumber',\n",
       "       'offenseFormation', 'personnelO', 'defendersInTheBox',\n",
       "       'numberOfPassRushers', 'personnelD', 'typeDropback',\n",
       "       'preSnapVisitorScore', 'preSnapHomeScore', 'gameClock',\n",
       "       'absoluteYardlineNumber', 'penaltyCodes', 'penaltyJerseyNumbers',\n",
       "       'passResult', 'offensePlayResult', 'playResult', 'epa', 'isDefensivePI',\n",
       "       'gameDate', 'gameTimeEastern', 'homeTeamAbbr', 'visitorTeamAbbr',\n",
       "       'week'],\n",
       "      dtype='object')"
      ]
     },
     "execution_count": 14,
     "metadata": {},
     "output_type": "execute_result"
    }
   ],
   "source": [
    "dpi_games_df = dpi_df.merge(games_df, how='left', on='gameId')\n",
    "dpi_games_df.head()\n",
    "dpi_games_df.columns"
   ]
  },
  {
   "cell_type": "code",
   "execution_count": 20,
   "metadata": {},
   "outputs": [
    {
     "name": "stdout",
     "output_type": "stream",
     "text": [
      "(16, 32)\n",
      "(259, 32)\n"
     ]
    }
   ],
   "source": [
    "st1_week = dpi_games_df[(dpi_games_df.penaltyCodes == 'DPI') & (dpi_games_df.week == 1)]\n",
    "print(st1_week.shape)\n",
    "print(dpi_games_df.shape)"
   ]
  },
  {
   "cell_type": "code",
   "execution_count": 12,
   "metadata": {},
   "outputs": [],
   "source": [
    "# Merge tracking data with DPI plays\n",
    "dpi_clean_df = pd.DataFrame()\n",
    "for index, row in dpi_games_df.iterrows():\n",
    "    corr_week = week_list[row.week - 1]\n",
    "    play_data_df = corr_week[corr_week.playId == row.playId]\n",
    "    # get dataframe format\n",
    "    row_df = dpi_games_df[dpi_games_df.index == index]\n",
    "    merge_play_week = play_data_df.merge(row_df, how='left', on='playId')\n",
    "    dpi_clean_df = dpi_clean_df.append(merge_play_week)"
   ]
  },
  {
   "cell_type": "code",
   "execution_count": 13,
   "metadata": {},
   "outputs": [
    {
     "data": {
      "text/plain": [
       "(298401, 50)"
      ]
     },
     "execution_count": 13,
     "metadata": {},
     "output_type": "execute_result"
    }
   ],
   "source": [
    "dpi_clean_df.shape"
   ]
  },
  {
   "cell_type": "code",
   "execution_count": 14,
   "metadata": {},
   "outputs": [],
   "source": [
    "dpi_clean_df.to_csv('data/cleaned/dpi.csv')"
   ]
  },
  {
   "cell_type": "code",
   "execution_count": 15,
   "metadata": {},
   "outputs": [
    {
     "data": {
      "text/plain": [
       "Index(['time', 'x', 'y', 's', 'a', 'dis', 'o', 'dir', 'event', 'nflId',\n",
       "       'displayName', 'jerseyNumber', 'position', 'frameId', 'team',\n",
       "       'gameId_x', 'playId', 'playDirection', 'route', 'gameId_y',\n",
       "       'playDescription', 'quarter', 'down', 'yardsToGo', 'possessionTeam',\n",
       "       'playType', 'yardlineSide', 'yardlineNumber', 'offenseFormation',\n",
       "       'personnelO', 'defendersInTheBox', 'numberOfPassRushers', 'personnelD',\n",
       "       'typeDropback', 'preSnapVisitorScore', 'preSnapHomeScore', 'gameClock',\n",
       "       'absoluteYardlineNumber', 'penaltyCodes', 'penaltyJerseyNumbers',\n",
       "       'passResult', 'offensePlayResult', 'playResult', 'epa', 'isDefensivePI',\n",
       "       'gameDate', 'gameTimeEastern', 'homeTeamAbbr', 'visitorTeamAbbr',\n",
       "       'week'],\n",
       "      dtype='object')"
      ]
     },
     "execution_count": 15,
     "metadata": {},
     "output_type": "execute_result"
    }
   ],
   "source": [
    "dpi_clean_df.columns"
   ]
  },
  {
   "cell_type": "code",
   "execution_count": 16,
   "metadata": {},
   "outputs": [
    {
     "data": {
      "text/plain": [
       "<BarContainer object of 17 artists>"
      ]
     },
     "execution_count": 16,
     "metadata": {},
     "output_type": "execute_result"
    },
    {
     "data": {
      "image/png": "[encoded data removed]",
      "text/plain": [
       "<Figure size 432x288 with 1 Axes>"
      ]
     },
     "metadata": {
      "needs_background": "light"
     },
     "output_type": "display_data"
    }
   ],
   "source": [
    "dpi_h = dpi_clean_df[dpi_clean_df.isDefensivePI == True].week.value_counts(sort=False)\n",
    "import matplotlib.pyplot as plt\n",
    "sum_val = dpi_h.sum()\n",
    "plt.xticks(range(dpi_h.shape[0]))\n",
    "plt.bar(range(dpi_h.shape[0]), dpi_h / sum_val)"
   ]
  },
  {
   "cell_type": "code",
   "execution_count": 17,
   "metadata": {},
   "outputs": [
    {
     "data": {
      "text/plain": [
       "Index(['gameId', 'playId', 'playDescription', 'quarter', 'down', 'yardsToGo',\n",
       "       'possessionTeam', 'playType', 'yardlineSide', 'yardlineNumber',\n",
       "       'offenseFormation', 'personnelO', 'defendersInTheBox',\n",
       "       'numberOfPassRushers', 'personnelD', 'typeDropback',\n",
       "       'preSnapVisitorScore', 'preSnapHomeScore', 'gameClock',\n",
       "       'absoluteYardlineNumber', 'penaltyCodes', 'penaltyJerseyNumbers',\n",
       "       'passResult', 'offensePlayResult', 'playResult', 'epa',\n",
       "       'isDefensivePI'],\n",
       "      dtype='object')"
      ]
     },
     "execution_count": 17,
     "metadata": {},
     "output_type": "execute_result"
    }
   ],
   "source": [
    "play_df.columns"
   ]
  },
  {
   "cell_type": "code",
   "execution_count": 18,
   "metadata": {},
   "outputs": [
    {
     "data": {
      "text/plain": [
       "Index(['gameId', 'playId', 'playDescription', 'quarter', 'down', 'yardsToGo',\n",
       "       'possessionTeam', 'playType', 'yardlineSide', 'yardlineNumber',\n",
       "       'offenseFormation', 'personnelO', 'defendersInTheBox',\n",
       "       'numberOfPassRushers', 'personnelD', 'typeDropback',\n",
       "       'preSnapVisitorScore', 'preSnapHomeScore', 'gameClock',\n",
       "       'absoluteYardlineNumber', 'penaltyCodes', 'penaltyJerseyNumbers',\n",
       "       'passResult', 'offensePlayResult', 'playResult', 'epa', 'isDefensivePI',\n",
       "       'gameDate', 'gameTimeEastern', 'homeTeamAbbr', 'visitorTeamAbbr',\n",
       "       'week'],\n",
       "      dtype='object')"
      ]
     },
     "execution_count": 18,
     "metadata": {},
     "output_type": "execute_result"
    }
   ],
   "source": [
    "non_dpi_plays = play_df[play_df.isDefensivePI == False]\n",
    "non_dpi_games_df = non_dpi_plays.merge(games_df, how='left', on='gameId')\n",
    "non_dpi_games_df.head()\n",
    "non_dpi_games_df.columns\n",
    "#non_dpi_games_df.shape"
   ]
  },
  {
   "cell_type": "markdown",
   "metadata": {},
   "source": [
    "## Idemo ovdje napraviti dataset koji ce imati podatke za prva 4 tjedna\n"
   ]
  },
  {
   "cell_type": "code",
   "execution_count": 19,
   "metadata": {},
   "outputs": [],
   "source": [
    "import time\n",
    "\n",
    "\n",
    "class TimerError(Exception):\n",
    "    \"\"\"A custom exception used to report errors in use of Timer class\"\"\"\n",
    "\n",
    "class Timer:\n",
    "\n",
    "    def __init__(self):\n",
    "        self._start_time = None\n",
    "\n",
    "    def start(self):\n",
    "\n",
    "        \"\"\"Start a new timer\"\"\"\n",
    "        if self._start_time is not None:\n",
    "            raise TimerError(f\"Timer is running. Use .stop() to stop it\")\n",
    "\n",
    "        self._start_time = time.perf_counter()\n",
    "\n",
    "    def stop(self):\n",
    "        \"\"\"Stop the timer, and report the elapsed time\"\"\"\n",
    "        if self._start_time is None:\n",
    "            raise TimerError(f\"Timer is not running. Use .start() to start it\")\n",
    "\n",
    "        elapsed_time = time.perf_counter() - self._start_time\n",
    "        self._start_time = None\n",
    "        print(f\"Elapsed time: {elapsed_time:0.4f} seconds\")"
   ]
  },
  {
   "cell_type": "code",
   "execution_count": 58,
   "metadata": {},
   "outputs": [
    {
     "name": "stdout",
     "output_type": "stream",
     "text": [
      "                     time_x    x_x    y_x   s_x   a_x  dis_x     o_x   dir_x  \\\n",
      "0  2018-09-07T01:07:14.599Z  91.73  26.67  0.00  0.01   0.02  289.57  240.93   \n",
      "1  2018-09-07T01:07:14.599Z  88.89  36.47  0.01  0.01   0.01  105.63   66.66   \n",
      "2  2018-09-07T01:07:14.599Z  91.35  44.16  0.02  0.03   0.01  290.45   16.86   \n",
      "3  2018-09-07T01:07:14.599Z  86.31  22.01  0.09  0.42   0.01   70.12  168.91   \n",
      "4  2018-09-07T01:07:14.599Z  90.78  36.15  0.00  0.00   0.00  257.61  193.97   \n",
      "\n",
      "  event_x    nflId_x  ... passResult  offensePlayResult playResult  epa  \\\n",
      "0    None      310.0  ...        NaN                NaN        NaN  NaN   \n",
      "1    None    79848.0  ...        NaN                NaN        NaN  NaN   \n",
      "2    None  2495454.0  ...        NaN                NaN        NaN  NaN   \n",
      "3    None  2495613.0  ...        NaN                NaN        NaN  NaN   \n",
      "4    None  2533040.0  ...        NaN                NaN        NaN  NaN   \n",
      "\n",
      "  isDefensivePI  gameDate  gameTimeEastern homeTeamAbbr visitorTeamAbbr  week  \n",
      "0           NaN       NaN              NaN          NaN             NaN   NaN  \n",
      "1           NaN       NaN              NaN          NaN             NaN   NaN  \n",
      "2           NaN       NaN              NaN          NaN             NaN   NaN  \n",
      "3           NaN       NaN              NaN          NaN             NaN   NaN  \n",
      "4           NaN       NaN              NaN          NaN             NaN   NaN  \n",
      "\n",
      "[5 rows x 68 columns]\n",
      "Elapsed time: 0.0511 seconds\n"
     ]
    },
    {
     "name": "stderr",
     "output_type": "stream",
     "text": [
      "<ipython-input-58-40b7cf9b44f4>:4: UserWarning: Boolean Series key will be reindexed to match DataFrame index.\n",
      "  first_4_dpi = dpi_clean_df[non_dpi_games_df.week <= 4]\n"
     ]
    }
   ],
   "source": [
    "first_4_non = non_dpi_games_df[non_dpi_games_df.week <= 4]\n",
    "first_4_non.shape\n",
    "\n",
    "first_4_dpi = dpi_clean_df[non_dpi_games_df.week <= 4]\n",
    "\n",
    "\n",
    "from IPython.display import clear_output\n",
    "# Merge tracking data with non DPI plays for first 4 weeks\n",
    "t = Timer()\n",
    "\n",
    "first_4_all = {}\n",
    "i = 0\n",
    "save_step = 500\n",
    "save_threshold = save_step\n",
    "is_first_save = True\n",
    "\n",
    "t.start()\n",
    "for index, row in first_4_non.iterrows():\n",
    "    corr_week = week_list[row.week - 1]\n",
    "    play_data_df = corr_week[corr_week.playId == row.playId]\n",
    "    \n",
    "    # get dataframe format\n",
    "    row_df = first_4_dpi[first_4_dpi.index == index]\n",
    "    \n",
    "    merge_play_week = play_data_df.merge(row_df, how='left', on='playId')\n",
    "    first_4_all[i] = merge_play_week.to_dict()\n",
    "    \n",
    "    \n",
    "    #first_4_all[i] = tmp_dict\n",
    "    #print(merge_play_week.head())\n",
    "    #break\n",
    "    #first_4_all.append(merge_play_week.to_dict('list'))\n",
    "    #print(first_4_all[i]);\n",
    "    #break\n",
    "    \n",
    "    test = pd.DataFrame.from_dict(first_4_all[0])\n",
    "    print(test.head())\n",
    "    break\n",
    "\n",
    "    i += 1\n",
    "    \n",
    "    print(f'Current progress {index} / {first_4_non.shape[0]}')\n",
    "    clear_output(wait=True)\n",
    "    \n",
    "    # prevent memory overflow error (RAM gets full)\n",
    "    if (index / save_threshold) >= 1:\n",
    "        first_4_all_df = pd.DataFrame.from_dict(first_4_all, 'index')\n",
    "        \n",
    "        if is_first_save:\n",
    "            pass\n",
    "            #first_4_all_df.to_csv('data/cleaned/first_4_weeks.csv')\n",
    "        else:\n",
    "            pass\n",
    "            #first_4_all_df.to_csv('data/cleaned/first_4_weeks.csv', mode='a', header=False)\n",
    "            \n",
    "        first_4_all = {}\n",
    "        save_threshold += save_step\n",
    "        is_first_save = False\n",
    "\n",
    "t.stop()\n"
   ]
  },
  {
   "cell_type": "code",
   "execution_count": 1,
   "metadata": {},
   "outputs": [],
   "source": [
    "columns"
   ]
  },
  {
   "cell_type": "markdown",
   "metadata": {},
   "source": [
    "## OVdje dalje je bilo spajanje svega ali to je sporo"
   ]
  },
  {
   "cell_type": "code",
   "execution_count": 21,
   "metadata": {},
   "outputs": [
    {
     "name": "stdout",
     "output_type": "stream",
     "text": [
      "Elapsed time: 858.4467 seconds\n"
     ]
    }
   ],
   "source": [
    "from IPython.display import clear_output\n",
    "# Merge tracking data with non DPI plays\n",
    "t = Timer()\n",
    "\n",
    "dict_all = {}\n",
    "i = 0\n",
    "save_step = 500\n",
    "save_threshold = save_step\n",
    "is_first = True\n",
    "t = Timer()\n",
    "\n",
    "t.start()\n",
    "for index, row in non_dpi_games_df.iterrows():\n",
    "    corr_week = week_list[row.week - 1]\n",
    "    play_data_df = corr_week[corr_week.playId == row.playId]\n",
    "    # get dataframe format\n",
    "    row_df = dpi_games_df[dpi_games_df.index == index]\n",
    "    merge_play_week = play_data_df.merge(row_df, how='left', on='playId')\n",
    "    \n",
    "    dict_all[i] = merge_play_week.to_dict()\n",
    "\n",
    "    i += 1\n",
    "    \n",
    "    print(f'Current progress {index} / {first_4_non.shape[0]}')\n",
    "    clear_output(wait=True)\n",
    "    \n",
    "    # prevent memory overflow error (RAM gets full)\n",
    "    if (index / save_threshold) >= 1:\n",
    "        non_dpi_df = pd.DataFrame.from_dict(dict_all, 'index')\n",
    "        \n",
    "        if is_first_save:\n",
    "            non_dpi_df.to_csv('data/cleaned/all_weeks.csv')\n",
    "        else:\n",
    "            non_dpi_df.to_csv('data/cleaned/all_weeks.csv', mode='a', header=False)\n",
    "            \n",
    "        dict_all = {}\n",
    "        save_threshold += save_step\n",
    "        is_first_save = False\n",
    "t.stop()"
   ]
  },
  {
   "cell_type": "code",
   "execution_count": null,
   "metadata": {},
   "outputs": [],
   "source": [
    "dpi_clean_df.to_csv('data/cleaned/non_dpi.csv')"
   ]
  },
  {
   "cell_type": "markdown",
   "metadata": {},
   "source": [
    "## Reduce unnecessary features and normalize DPI"
   ]
  },
  {
   "cell_type": "code",
   "execution_count": null,
   "metadata": {},
   "outputs": [],
   "source": [
    "dpi_clean_df.columns"
   ]
  },
  {
   "cell_type": "code",
   "execution_count": null,
   "metadata": {},
   "outputs": [],
   "source": [
    "dpi_drop_df = dpi_clean_df.drop(columns=[\n",
    "    'displayName', 'jerseyNumber', 'gameId_y', \n",
    "    'penaltyCodes', 'penaltyJerseyNumbers', 'isDefensivePI',\n",
    "    'gameTimeEastern', 'homeTeamAbbr', 'visitorTeamAbbr', 'nflId',\n",
    "    'gameId_x', 'gameDate', 'week',\n",
    "    'personnelO', 'personnelD', # ovo mozda staviti kao kategoricki, moze biti bitno\n",
    "])"
   ]
  },
  {
   "cell_type": "code",
   "execution_count": null,
   "metadata": {},
   "outputs": [],
   "source": [
    "dpi_drop_df.columns"
   ]
  },
  {
   "cell_type": "markdown",
   "metadata": {},
   "source": [
    "### Who produces DPI"
   ]
  },
  {
   "cell_type": "code",
   "execution_count": null,
   "metadata": {},
   "outputs": [],
   "source": [
    "#dpi_test_df = dpi_clean_df.drop(dpi_clean_df.columns.difference(['nflId', 'frameId', 'position', 'playId', 'quarter']), 1)\n",
    "#dpi_test_df.columns\n",
    "test_dpi = play_df[play_df.isDefensivePI == True]\n",
    "test_dpi.columns"
   ]
  },
  {
   "cell_type": "code",
   "execution_count": null,
   "metadata": {},
   "outputs": [],
   "source": [
    "#result = dpi_test_df.groupby(by=['playId', 'frameId']).first()\n",
    "\n",
    "#result.position.value_counts()\n",
    "test_dpi.penaltyJerseyNumbers = test_dpi.penaltyJerseyNumbers.str.extract('(\\d+)', expand=False)\n",
    "\n",
    "test_dpi.penaltyJerseyNumbers.value_counts()[:10].sum()\n",
    "#print(186/259)"
   ]
  },
  {
   "cell_type": "markdown",
   "metadata": {},
   "source": [
    "## Zaključak kod DPI\n",
    "Najviše ga uzrokuju DB (defensive back) => 72% što je i za očekivati"
   ]
  }
 ],
 "metadata": {
  "kernelspec": {
   "display_name": "NFL env",
   "language": "python",
   "name": "nfl_env"
  },
  "language_info": {
   "codemirror_mode": {
    "name": "ipython",
    "version": 3
   },
   "file_extension": ".py",
   "mimetype": "text/x-python",
   "name": "python",
   "nbconvert_exporter": "python",
   "pygments_lexer": "ipython3",
   "version": "3.8.5"
  }
 },
 "nbformat": 4,
 "nbformat_minor": 2
}
