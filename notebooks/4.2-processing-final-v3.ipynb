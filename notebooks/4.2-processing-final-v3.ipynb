{
 "cells": [
  {
   "cell_type": "code",
   "execution_count": 105,
   "metadata": {},
   "outputs": [],
   "source": [
    "import sys\n",
    "sys.path.append(\"../\")\n",
    "import os\n",
    "import numpy as np\n",
    "import pandas as pd\n",
    "import category_encoders as ce\n",
    "from datetime import datetime\n",
    "from settings import INTERIM_DATA_DIR, CLEANED_DATA_DIR\n",
    "from src.features.helpers.processing import convert_df_to_numpy_array, sort_by_timestamp_and_remove_timestamp"
   ]
  },
  {
   "cell_type": "code",
   "execution_count": 106,
   "metadata": {},
   "outputs": [],
   "source": [
    "df = pd.read_csv(os.path.join(INTERIM_DATA_DIR, f'processing_v3_dataframe_week1.csv'), decimal='.')"
   ]
  },
  {
   "cell_type": "code",
   "execution_count": 107,
   "metadata": {},
   "outputs": [
    {
     "data": {
      "text/plain": [
       "array(['pass_forward', 'None', 'pass_arrived', 'pass_outcome_caught',\n",
       "       'out_of_bounds', 'pass_outcome_incomplete', 'first_contact',\n",
       "       'tackle', 'pass_tipped', 'pass_outcome_interception',\n",
       "       'pass_outcome_touchdown', 'touchdown', 'fumble',\n",
       "       'fumble_offense_recovered', 'fumble_defense_recovered',\n",
       "       'touchback', 'penalty_flag'], dtype=object)"
      ]
     },
     "execution_count": 107,
     "metadata": {},
     "output_type": "execute_result"
    }
   ],
   "source": [
    "df.event.unique()"
   ]
  },
  {
   "cell_type": "code",
   "execution_count": 108,
   "metadata": {},
   "outputs": [],
   "source": [
    "# for now delete event \n",
    "df2 = df.drop(columns=['event'])"
   ]
  },
  {
   "cell_type": "markdown",
   "metadata": {},
   "source": [
    "df2 = pd.get_dummies(df, columns=['event'])"
   ]
  },
  {
   "cell_type": "code",
   "execution_count": 109,
   "metadata": {},
   "outputs": [
    {
     "data": {
      "text/plain": [
       "Index(['time', 'p1_p2_d', 'p1_b_d', 'p2_b_d', 'p1_s', 'p2_s', 'b_s', 'gameId',\n",
       "       'playId', 'frameId', 'isDefensivePI'],\n",
       "      dtype='object')"
      ]
     },
     "execution_count": 109,
     "metadata": {},
     "output_type": "execute_result"
    }
   ],
   "source": [
    "df2.columns"
   ]
  },
  {
   "cell_type": "code",
   "execution_count": 110,
   "metadata": {},
   "outputs": [],
   "source": [
    "df2.isDefensivePI = df2.isDefensivePI.astype(int)"
   ]
  },
  {
   "cell_type": "code",
   "execution_count": 111,
   "metadata": {},
   "outputs": [],
   "source": [
    "df_labels = df2[['gameId', 'playId', 'time', 'isDefensivePI']]"
   ]
  },
  {
   "cell_type": "code",
   "execution_count": 112,
   "metadata": {},
   "outputs": [],
   "source": [
    "df_features = df2.loc[:, df2.columns != 'isDefensivePI']"
   ]
  },
  {
   "cell_type": "code",
   "execution_count": 113,
   "metadata": {},
   "outputs": [],
   "source": [
    "features_list = convert_df_to_numpy_array(df_features, ['playId', 'gameId'])"
   ]
  },
  {
   "cell_type": "code",
   "execution_count": 114,
   "metadata": {},
   "outputs": [],
   "source": [
    "labels_list = convert_df_to_numpy_array(df_labels, ['playId', 'gameId'], skip_last_list_wrapper=True)"
   ]
  },
  {
   "cell_type": "code",
   "execution_count": 115,
   "metadata": {},
   "outputs": [
    {
     "name": "stdout",
     "output_type": "stream",
     "text": [
      "Sort data by timestamp...\n"
     ]
    }
   ],
   "source": [
    "features_final, labels_final = sort_by_timestamp_and_remove_timestamp(features_list, labels_list)"
   ]
  },
  {
   "cell_type": "code",
   "execution_count": 116,
   "metadata": {},
   "outputs": [],
   "source": [
    "np.save(os.path.join(CLEANED_DATA_DIR, f'features_v3_week_1.npy'), np.array(features_final, dtype=object))\n",
    "np.save(os.path.join(CLEANED_DATA_DIR, f'labels_v3_week_1.npy'), np.array(labels_final))"
   ]
  },
  {
   "cell_type": "code",
   "execution_count": null,
   "metadata": {},
   "outputs": [],
   "source": []
  }
 ],
 "metadata": {
  "kernelspec": {
   "display_name": "NFL env",
   "language": "python",
   "name": "nfl_env"
  },
  "language_info": {
   "codemirror_mode": {
    "name": "ipython",
    "version": 3
   },
   "file_extension": ".py",
   "mimetype": "text/x-python",
   "name": "python",
   "nbconvert_exporter": "python",
   "pygments_lexer": "ipython3",
   "version": "3.8.5"
  }
 },
 "nbformat": 4,
 "nbformat_minor": 4
}
