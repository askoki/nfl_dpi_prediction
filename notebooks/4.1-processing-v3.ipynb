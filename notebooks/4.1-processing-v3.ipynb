{
 "cells": [
  {
   "cell_type": "code",
   "execution_count": 319,
   "metadata": {},
   "outputs": [],
   "source": [
    "import sys\n",
    "sys.path.append(\"../\")\n",
    "from settings import RAW_DATA_DIR, INTERIM_DATA_DIR\n",
    "import pandas as pd\n",
    "import plotly.express as px\n",
    "import os\n",
    "import numpy as np"
   ]
  },
  {
   "cell_type": "code",
   "execution_count": 2,
   "metadata": {},
   "outputs": [],
   "source": [
    "play_df = pd.read_csv(os.path.join(RAW_DATA_DIR, 'plays.csv'))\n",
    "games_df = pd.read_csv(os.path.join(RAW_DATA_DIR, 'games.csv'))"
   ]
  },
  {
   "cell_type": "code",
   "execution_count": 3,
   "metadata": {},
   "outputs": [],
   "source": [
    "week_and_games = games_df[games_df.week == 1]\n",
    "tracking_df = pd.read_csv(os.path.join(RAW_DATA_DIR, f'week{1}.csv'))"
   ]
  },
  {
   "cell_type": "code",
   "execution_count": 4,
   "metadata": {},
   "outputs": [],
   "source": [
    "games_n_plays_df = play_df.merge(week_and_games, how='inner', on='gameId')"
   ]
  },
  {
   "cell_type": "code",
   "execution_count": 5,
   "metadata": {},
   "outputs": [],
   "source": [
    "from src.features.helpers.processing import add_missing_timestamp_values"
   ]
  },
  {
   "cell_type": "code",
   "execution_count": 6,
   "metadata": {},
   "outputs": [
    {
     "name": "stdout",
     "output_type": "stream",
     "text": [
      "Start record processing. Differentiate timestamps that have multiple records...\n",
      "Time: 20:05:15\n",
      "End record processing: 20:08:00\n"
     ]
    }
   ],
   "source": [
    "tracking_df = add_missing_timestamp_values(tracking_df)"
   ]
  },
  {
   "cell_type": "code",
   "execution_count": 7,
   "metadata": {},
   "outputs": [],
   "source": [
    "df_t = tracking_df.merge(games_n_plays_df, how='left', on=['gameId', 'playId'])"
   ]
  },
  {
   "cell_type": "code",
   "execution_count": 8,
   "metadata": {},
   "outputs": [
    {
     "data": {
      "text/plain": [
       "Index(['time', 'x', 'y', 's', 'a', 'dis', 'o', 'dir', 'event', 'nflId',\n",
       "       'displayName', 'jerseyNumber', 'position', 'frameId', 'team', 'gameId',\n",
       "       'playId', 'playDirection', 'route', 'playDescription', 'quarter',\n",
       "       'down', 'yardsToGo', 'possessionTeam', 'playType', 'yardlineSide',\n",
       "       'yardlineNumber', 'offenseFormation', 'personnelO', 'defendersInTheBox',\n",
       "       'numberOfPassRushers', 'personnelD', 'typeDropback',\n",
       "       'preSnapVisitorScore', 'preSnapHomeScore', 'gameClock',\n",
       "       'absoluteYardlineNumber', 'penaltyCodes', 'penaltyJerseyNumbers',\n",
       "       'passResult', 'offensePlayResult', 'playResult', 'epa', 'isDefensivePI',\n",
       "       'gameDate', 'gameTimeEastern', 'homeTeamAbbr', 'visitorTeamAbbr',\n",
       "       'week'],\n",
       "      dtype='object')"
      ]
     },
     "execution_count": 8,
     "metadata": {},
     "output_type": "execute_result"
    }
   ],
   "source": [
    "df_t.columns"
   ]
  },
  {
   "cell_type": "code",
   "execution_count": 9,
   "metadata": {},
   "outputs": [
    {
     "data": {
      "text/plain": [
       "(986022, 49)"
      ]
     },
     "execution_count": 9,
     "metadata": {},
     "output_type": "execute_result"
    }
   ],
   "source": [
    "df_t.shape"
   ]
  },
  {
   "cell_type": "code",
   "execution_count": 10,
   "metadata": {},
   "outputs": [
    {
     "data": {
      "text/plain": [
       "1034"
      ]
     },
     "execution_count": 10,
     "metadata": {},
     "output_type": "execute_result"
    }
   ],
   "source": [
    "gb = df_t.groupby(['gameId', 'playId'])\n",
    "len(gb)"
   ]
  },
  {
   "cell_type": "code",
   "execution_count": 11,
   "metadata": {},
   "outputs": [
    {
     "data": {
      "text/plain": [
       "(986022, 49)"
      ]
     },
     "execution_count": 11,
     "metadata": {},
     "output_type": "execute_result"
    }
   ],
   "source": [
    "df_c = df_t.copy()\n",
    "df_c.shape"
   ]
  },
  {
   "cell_type": "code",
   "execution_count": 12,
   "metadata": {},
   "outputs": [
    {
     "data": {
      "text/plain": [
       "(918456, 49)"
      ]
     },
     "execution_count": 12,
     "metadata": {},
     "output_type": "execute_result"
    }
   ],
   "source": [
    "for name, group in gb:\n",
    "    game_id, play_id = name\n",
    "    \n",
    "    # if group does not contain pass forward, drop it\n",
    "    if all(group.event != 'pass_forward'):\n",
    "        df_c = df_c[(df_c.gameId != game_id) | (df_c.playId != play_id)]\n",
    "df_c.shape"
   ]
  },
  {
   "cell_type": "markdown",
   "metadata": {},
   "source": [
    "## Sort by time, gameId, playId and event"
   ]
  },
  {
   "cell_type": "code",
   "execution_count": 74,
   "metadata": {},
   "outputs": [],
   "source": [
    "df_s = df_c.sort_values(by=['gameId', 'playId', 'time', 'event'])"
   ]
  },
  {
   "cell_type": "code",
   "execution_count": 76,
   "metadata": {},
   "outputs": [],
   "source": [
    "df_s = df_s.reset_index(drop=True)"
   ]
  },
  {
   "cell_type": "code",
   "execution_count": 77,
   "metadata": {},
   "outputs": [
    {
     "data": {
      "text/html": [
       "<div>\n",
       "<style scoped>\n",
       "    .dataframe tbody tr th:only-of-type {\n",
       "        vertical-align: middle;\n",
       "    }\n",
       "\n",
       "    .dataframe tbody tr th {\n",
       "        vertical-align: top;\n",
       "    }\n",
       "\n",
       "    .dataframe thead th {\n",
       "        text-align: right;\n",
       "    }\n",
       "</style>\n",
       "<table border=\"1\" class=\"dataframe\">\n",
       "  <thead>\n",
       "    <tr style=\"text-align: right;\">\n",
       "      <th></th>\n",
       "      <th>time</th>\n",
       "      <th>x</th>\n",
       "      <th>y</th>\n",
       "      <th>s</th>\n",
       "      <th>a</th>\n",
       "      <th>dis</th>\n",
       "      <th>o</th>\n",
       "      <th>dir</th>\n",
       "      <th>event</th>\n",
       "      <th>nflId</th>\n",
       "      <th>...</th>\n",
       "      <th>passResult</th>\n",
       "      <th>offensePlayResult</th>\n",
       "      <th>playResult</th>\n",
       "      <th>epa</th>\n",
       "      <th>isDefensivePI</th>\n",
       "      <th>gameDate</th>\n",
       "      <th>gameTimeEastern</th>\n",
       "      <th>homeTeamAbbr</th>\n",
       "      <th>visitorTeamAbbr</th>\n",
       "      <th>week</th>\n",
       "    </tr>\n",
       "  </thead>\n",
       "  <tbody>\n",
       "    <tr>\n",
       "      <th>0</th>\n",
       "      <td>2018-09-07T01:07:14.599Z</td>\n",
       "      <td>91.73</td>\n",
       "      <td>26.67</td>\n",
       "      <td>0.00</td>\n",
       "      <td>0.01</td>\n",
       "      <td>0.02</td>\n",
       "      <td>289.57</td>\n",
       "      <td>240.93</td>\n",
       "      <td>None</td>\n",
       "      <td>310.0</td>\n",
       "      <td>...</td>\n",
       "      <td>C</td>\n",
       "      <td>10</td>\n",
       "      <td>10</td>\n",
       "      <td>0.261827</td>\n",
       "      <td>False</td>\n",
       "      <td>09/06/2018</td>\n",
       "      <td>20:20:00</td>\n",
       "      <td>PHI</td>\n",
       "      <td>ATL</td>\n",
       "      <td>1</td>\n",
       "    </tr>\n",
       "    <tr>\n",
       "      <th>1</th>\n",
       "      <td>2018-09-07T01:07:14.599Z</td>\n",
       "      <td>88.89</td>\n",
       "      <td>36.47</td>\n",
       "      <td>0.01</td>\n",
       "      <td>0.01</td>\n",
       "      <td>0.01</td>\n",
       "      <td>105.63</td>\n",
       "      <td>66.66</td>\n",
       "      <td>None</td>\n",
       "      <td>79848.0</td>\n",
       "      <td>...</td>\n",
       "      <td>C</td>\n",
       "      <td>10</td>\n",
       "      <td>10</td>\n",
       "      <td>0.261827</td>\n",
       "      <td>False</td>\n",
       "      <td>09/06/2018</td>\n",
       "      <td>20:20:00</td>\n",
       "      <td>PHI</td>\n",
       "      <td>ATL</td>\n",
       "      <td>1</td>\n",
       "    </tr>\n",
       "    <tr>\n",
       "      <th>2</th>\n",
       "      <td>2018-09-07T01:07:14.599Z</td>\n",
       "      <td>91.35</td>\n",
       "      <td>44.16</td>\n",
       "      <td>0.02</td>\n",
       "      <td>0.03</td>\n",
       "      <td>0.01</td>\n",
       "      <td>290.45</td>\n",
       "      <td>16.86</td>\n",
       "      <td>None</td>\n",
       "      <td>2495454.0</td>\n",
       "      <td>...</td>\n",
       "      <td>C</td>\n",
       "      <td>10</td>\n",
       "      <td>10</td>\n",
       "      <td>0.261827</td>\n",
       "      <td>False</td>\n",
       "      <td>09/06/2018</td>\n",
       "      <td>20:20:00</td>\n",
       "      <td>PHI</td>\n",
       "      <td>ATL</td>\n",
       "      <td>1</td>\n",
       "    </tr>\n",
       "    <tr>\n",
       "      <th>3</th>\n",
       "      <td>2018-09-07T01:07:14.599Z</td>\n",
       "      <td>86.31</td>\n",
       "      <td>22.01</td>\n",
       "      <td>0.09</td>\n",
       "      <td>0.42</td>\n",
       "      <td>0.01</td>\n",
       "      <td>70.12</td>\n",
       "      <td>168.91</td>\n",
       "      <td>None</td>\n",
       "      <td>2495613.0</td>\n",
       "      <td>...</td>\n",
       "      <td>C</td>\n",
       "      <td>10</td>\n",
       "      <td>10</td>\n",
       "      <td>0.261827</td>\n",
       "      <td>False</td>\n",
       "      <td>09/06/2018</td>\n",
       "      <td>20:20:00</td>\n",
       "      <td>PHI</td>\n",
       "      <td>ATL</td>\n",
       "      <td>1</td>\n",
       "    </tr>\n",
       "    <tr>\n",
       "      <th>4</th>\n",
       "      <td>2018-09-07T01:07:14.599Z</td>\n",
       "      <td>90.78</td>\n",
       "      <td>36.15</td>\n",
       "      <td>0.00</td>\n",
       "      <td>0.00</td>\n",
       "      <td>0.00</td>\n",
       "      <td>257.61</td>\n",
       "      <td>193.97</td>\n",
       "      <td>None</td>\n",
       "      <td>2533040.0</td>\n",
       "      <td>...</td>\n",
       "      <td>C</td>\n",
       "      <td>10</td>\n",
       "      <td>10</td>\n",
       "      <td>0.261827</td>\n",
       "      <td>False</td>\n",
       "      <td>09/06/2018</td>\n",
       "      <td>20:20:00</td>\n",
       "      <td>PHI</td>\n",
       "      <td>ATL</td>\n",
       "      <td>1</td>\n",
       "    </tr>\n",
       "  </tbody>\n",
       "</table>\n",
       "<p>5 rows × 49 columns</p>\n",
       "</div>"
      ],
      "text/plain": [
       "                       time      x      y     s     a   dis       o     dir  \\\n",
       "0  2018-09-07T01:07:14.599Z  91.73  26.67  0.00  0.01  0.02  289.57  240.93   \n",
       "1  2018-09-07T01:07:14.599Z  88.89  36.47  0.01  0.01  0.01  105.63   66.66   \n",
       "2  2018-09-07T01:07:14.599Z  91.35  44.16  0.02  0.03  0.01  290.45   16.86   \n",
       "3  2018-09-07T01:07:14.599Z  86.31  22.01  0.09  0.42  0.01   70.12  168.91   \n",
       "4  2018-09-07T01:07:14.599Z  90.78  36.15  0.00  0.00  0.00  257.61  193.97   \n",
       "\n",
       "  event      nflId  ... passResult  offensePlayResult playResult       epa  \\\n",
       "0  None      310.0  ...          C                 10         10  0.261827   \n",
       "1  None    79848.0  ...          C                 10         10  0.261827   \n",
       "2  None  2495454.0  ...          C                 10         10  0.261827   \n",
       "3  None  2495613.0  ...          C                 10         10  0.261827   \n",
       "4  None  2533040.0  ...          C                 10         10  0.261827   \n",
       "\n",
       "  isDefensivePI    gameDate  gameTimeEastern homeTeamAbbr visitorTeamAbbr week  \n",
       "0         False  09/06/2018         20:20:00          PHI             ATL    1  \n",
       "1         False  09/06/2018         20:20:00          PHI             ATL    1  \n",
       "2         False  09/06/2018         20:20:00          PHI             ATL    1  \n",
       "3         False  09/06/2018         20:20:00          PHI             ATL    1  \n",
       "4         False  09/06/2018         20:20:00          PHI             ATL    1  \n",
       "\n",
       "[5 rows x 49 columns]"
      ]
     },
     "execution_count": 77,
     "metadata": {},
     "output_type": "execute_result"
    }
   ],
   "source": [
    "df_s.head(5)"
   ]
  },
  {
   "cell_type": "markdown",
   "metadata": {},
   "source": [
    "# Find 2 closest players to the ball when event changes from None to something"
   ]
  },
  {
   "cell_type": "code",
   "execution_count": 78,
   "metadata": {},
   "outputs": [
    {
     "data": {
      "text/plain": [
       "(14166, 49)"
      ]
     },
     "execution_count": 78,
     "metadata": {},
     "output_type": "execute_result"
    }
   ],
   "source": [
    "df_s[df_s.event == 'pass_forward'].shape"
   ]
  },
  {
   "cell_type": "markdown",
   "metadata": {},
   "source": [
    "## Remove all values before pass forward"
   ]
  },
  {
   "cell_type": "code",
   "execution_count": 323,
   "metadata": {},
   "outputs": [],
   "source": [
    "gb_2 = df_s.groupby(['gameId', 'playId'])"
   ]
  },
  {
   "cell_type": "code",
   "execution_count": 324,
   "metadata": {},
   "outputs": [
    {
     "data": {
      "text/plain": [
       "(918456, 49)"
      ]
     },
     "execution_count": 324,
     "metadata": {},
     "output_type": "execute_result"
    }
   ],
   "source": [
    "df_d = df_s.copy()\n",
    "df_d.shape"
   ]
  },
  {
   "cell_type": "code",
   "execution_count": 325,
   "metadata": {},
   "outputs": [],
   "source": [
    "pd.set_option('display.max_rows', None)"
   ]
  },
  {
   "cell_type": "code",
   "execution_count": null,
   "metadata": {
    "scrolled": true
   },
   "outputs": [
    {
     "name": "stdout",
     "output_type": "stream",
     "text": [
      "416/962 from 396642 to 397091\r"
     ]
    }
   ],
   "source": [
    "i = 0\n",
    "groups = len(gb_2)\n",
    "for name, group in gb_2:\n",
    "    game_id, play_id = name\n",
    "    pass_forward_frame_id = group[group.event == 'pass_forward'].index.min() - 1\n",
    "    remove_start = group.index.min()\n",
    "    \n",
    "    print(f'{i}/{groups} from {remove_start} to {pass_forward_frame_id}', end='\\r')\n",
    "    df_d = df_d.drop(df_d.loc[remove_start:pass_forward_frame_id].index)\n",
    "    i +=1"
   ]
  },
  {
   "cell_type": "code",
   "execution_count": 84,
   "metadata": {},
   "outputs": [
    {
     "data": {
      "text/plain": [
       "(385372, 49)"
      ]
     },
     "execution_count": 84,
     "metadata": {},
     "output_type": "execute_result"
    }
   ],
   "source": [
    "df_d.shape"
   ]
  },
  {
   "cell_type": "code",
   "execution_count": 85,
   "metadata": {},
   "outputs": [
    {
     "data": {
      "text/plain": [
       "(14166, 49)"
      ]
     },
     "execution_count": 85,
     "metadata": {},
     "output_type": "execute_result"
    }
   ],
   "source": [
    "df_d[df_d.event == 'pass_forward'].shape"
   ]
  },
  {
   "cell_type": "markdown",
   "metadata": {},
   "source": [
    "## Which events are possible after pass forward?"
   ]
  },
  {
   "cell_type": "code",
   "execution_count": 86,
   "metadata": {
    "scrolled": true
   },
   "outputs": [
    {
     "data": {
      "text/plain": [
       "None                         329940\n",
       "pass_forward                  14166\n",
       "pass_arrived                  11410\n",
       "pass_outcome_caught            8133\n",
       "tackle                         6567\n",
       "first_contact                  6457\n",
       "pass_outcome_incomplete        5291\n",
       "out_of_bounds                  1728\n",
       "pass_outcome_interception       485\n",
       "touchdown                       352\n",
       "pass_tipped                     280\n",
       "pass_outcome_touchdown          214\n",
       "fumble                          143\n",
       "fumble_defense_recovered        100\n",
       "fumble_offense_recovered         44\n",
       "penalty_flag                     32\n",
       "touchback                        30\n",
       "Name: event, dtype: int64"
      ]
     },
     "execution_count": 86,
     "metadata": {},
     "output_type": "execute_result"
    }
   ],
   "source": [
    "df_d.event.value_counts()"
   ]
  },
  {
   "cell_type": "code",
   "execution_count": 89,
   "metadata": {},
   "outputs": [
    {
     "data": {
      "text/plain": [
       "(385372, 49)"
      ]
     },
     "execution_count": 89,
     "metadata": {},
     "output_type": "execute_result"
    }
   ],
   "source": [
    "df_next = df_d.copy()\n",
    "df_next.shape"
   ]
  },
  {
   "cell_type": "code",
   "execution_count": 91,
   "metadata": {},
   "outputs": [
    {
     "data": {
      "text/plain": [
       "(55432, 49)"
      ]
     },
     "execution_count": 91,
     "metadata": {},
     "output_type": "execute_result"
    }
   ],
   "source": [
    "df_next = df_next[df_next.event != 'None']\n",
    "df_next.shape"
   ]
  },
  {
   "cell_type": "code",
   "execution_count": 92,
   "metadata": {},
   "outputs": [],
   "source": [
    "gb_3 = df_next.groupby(['gameId', 'playId'])"
   ]
  },
  {
   "cell_type": "raw",
   "metadata": {},
   "source": [
    "# this is commented so it wont show on github\n",
    "groups = len(gb_3)\n",
    "for name, group in gb_3:\n",
    "    game_id, play_id = name\n",
    "\n",
    "    print(group.event.unique()[:2])\n",
    "    print('-------')\n"
   ]
  },
  {
   "cell_type": "markdown",
   "metadata": {},
   "source": [
    "## Find 'situation' dataframe"
   ]
  },
  {
   "cell_type": "code",
   "execution_count": 97,
   "metadata": {},
   "outputs": [],
   "source": [
    "gb_4 = df_d.groupby(['gameId', 'playId'])"
   ]
  },
  {
   "cell_type": "code",
   "execution_count": 98,
   "metadata": {},
   "outputs": [
    {
     "data": {
      "text/plain": [
       "(385372, 49)"
      ]
     },
     "execution_count": 98,
     "metadata": {},
     "output_type": "execute_result"
    }
   ],
   "source": [
    "df_s2 = df_d.copy()\n",
    "df_s2.shape"
   ]
  },
  {
   "cell_type": "code",
   "execution_count": 112,
   "metadata": {},
   "outputs": [
    {
     "data": {
      "text/plain": [
       "Index(['time', 'x', 'y', 's', 'a', 'dis', 'o', 'dir', 'event', 'nflId',\n",
       "       'displayName', 'jerseyNumber', 'position', 'frameId', 'team', 'gameId',\n",
       "       'playId', 'playDirection', 'route', 'playDescription', 'quarter',\n",
       "       'down', 'yardsToGo', 'possessionTeam', 'playType', 'yardlineSide',\n",
       "       'yardlineNumber', 'offenseFormation', 'personnelO', 'defendersInTheBox',\n",
       "       'numberOfPassRushers', 'personnelD', 'typeDropback',\n",
       "       'preSnapVisitorScore', 'preSnapHomeScore', 'gameClock',\n",
       "       'absoluteYardlineNumber', 'penaltyCodes', 'penaltyJerseyNumbers',\n",
       "       'passResult', 'offensePlayResult', 'playResult', 'epa', 'isDefensivePI',\n",
       "       'gameDate', 'gameTimeEastern', 'homeTeamAbbr', 'visitorTeamAbbr',\n",
       "       'week'],\n",
       "      dtype='object')"
      ]
     },
     "execution_count": 112,
     "metadata": {},
     "output_type": "execute_result"
    }
   ],
   "source": [
    "df_s2.columns"
   ]
  },
  {
   "cell_type": "code",
   "execution_count": 219,
   "metadata": {},
   "outputs": [],
   "source": [
    "def get_closest_players(situation_df: pd.DataFrame, ball_x: int, ball_y: int) -> tuple:\n",
    "    home_df = situation_df[situation_df.team == 'home'].copy()\n",
    "    away_df = situation_df[situation_df.team == 'away'].copy()\n",
    "    home_df.loc[:, 'distance'] = np.sqrt(np.square(home_df.x - ball_x) + np.square(home_df.y - ball_y))\n",
    "    away_df.loc[:, 'distance'] = np.sqrt(np.square(away_df.x - ball_x) + np.square(away_df.y - ball_y))\n",
    "    \n",
    "    # TODO: trebalo bi vidjeti tko ima loptu i onda najbliži protivnički igrač da se računa od njega\n",
    "    p1_p = home_df.distance.min()\n",
    "    p2_p = away_df.distance.min()\n",
    "    p1 = home_df[home_df.distance == p1_p]\n",
    "    p2 = away_df[away_df.distance == p2_p]\n",
    "    return (p1, p2)"
   ]
  },
  {
   "cell_type": "code",
   "execution_count": 220,
   "metadata": {},
   "outputs": [],
   "source": [
    "def get_players_and_ball_indices(df: pd.DataFrame, p1: pd.Series, p2: pd.Series) -> list:\n",
    "    try:\n",
    "        indices = df[(df.team == 'football') | (df.nflId == p1.nflId.item()) | (df.nflId == p2.nflId.item())].index\n",
    "    except ValueError:\n",
    "        import pdb; pdb.set_trace()\n",
    "    return indices.tolist()"
   ]
  },
  {
   "cell_type": "code",
   "execution_count": 322,
   "metadata": {},
   "outputs": [
    {
     "name": "stdout",
     "output_type": "stream",
     "text": [
      "962/962\r"
     ]
    }
   ],
   "source": [
    "i = 0\n",
    "pd.options.mode.chained_assignment = None\n",
    "keep_indices = []\n",
    "groups = len(gb_4)\n",
    "for name, group in gb_4:\n",
    "    game_id, play_id = name\n",
    "    event_3rd = group.event.unique()[2]\n",
    "\n",
    "    situation_df = group[group.event == event_3rd]\n",
    "\n",
    "    # convert dataframe into series\n",
    "    ball_row = situation_df[situation_df.team == 'football'].head(1)\n",
    "\n",
    "    # remove ball\n",
    "    player_situation_df = situation_df[situation_df.team != 'football']\n",
    "    p1, p2 = get_closest_players(player_situation_df, ball_row.x.item(), ball_row.y.item())\n",
    "    keep_indices.extend(get_players_and_ball_indices(group, p1, p2))\n",
    "    \n",
    "    \n",
    "    i +=1\n",
    "    print(f'{i}/{groups}', end='\\r')"
   ]
  },
  {
   "cell_type": "code",
   "execution_count": 226,
   "metadata": {},
   "outputs": [
    {
     "data": {
      "text/plain": [
       "78434"
      ]
     },
     "execution_count": 226,
     "metadata": {},
     "output_type": "execute_result"
    }
   ],
   "source": [
    "len(keep_indices)"
   ]
  },
  {
   "cell_type": "code",
   "execution_count": 262,
   "metadata": {},
   "outputs": [],
   "source": [
    "clean_df = df_s2[df_s2.index.isin(keep_indices)]"
   ]
  },
  {
   "cell_type": "code",
   "execution_count": 264,
   "metadata": {},
   "outputs": [
    {
     "data": {
      "text/plain": [
       "(78434, 49)"
      ]
     },
     "execution_count": 264,
     "metadata": {},
     "output_type": "execute_result"
    }
   ],
   "source": [
    "clean_df.shape"
   ]
  },
  {
   "cell_type": "code",
   "execution_count": 273,
   "metadata": {},
   "outputs": [
    {
     "data": {
      "text/html": [
       "<div>\n",
       "<style scoped>\n",
       "    .dataframe tbody tr th:only-of-type {\n",
       "        vertical-align: middle;\n",
       "    }\n",
       "\n",
       "    .dataframe tbody tr th {\n",
       "        vertical-align: top;\n",
       "    }\n",
       "\n",
       "    .dataframe thead th {\n",
       "        text-align: right;\n",
       "    }\n",
       "</style>\n",
       "<table border=\"1\" class=\"dataframe\">\n",
       "  <thead>\n",
       "    <tr style=\"text-align: right;\">\n",
       "      <th></th>\n",
       "      <th>time</th>\n",
       "      <th>x</th>\n",
       "      <th>y</th>\n",
       "      <th>s</th>\n",
       "      <th>a</th>\n",
       "      <th>dis</th>\n",
       "      <th>o</th>\n",
       "      <th>dir</th>\n",
       "      <th>event</th>\n",
       "      <th>nflId</th>\n",
       "      <th>...</th>\n",
       "      <th>passResult</th>\n",
       "      <th>offensePlayResult</th>\n",
       "      <th>playResult</th>\n",
       "      <th>epa</th>\n",
       "      <th>isDefensivePI</th>\n",
       "      <th>gameDate</th>\n",
       "      <th>gameTimeEastern</th>\n",
       "      <th>homeTeamAbbr</th>\n",
       "      <th>visitorTeamAbbr</th>\n",
       "      <th>week</th>\n",
       "    </tr>\n",
       "  </thead>\n",
       "  <tbody>\n",
       "    <tr>\n",
       "      <th>491</th>\n",
       "      <td>2018-09-07T01:07:18.099Z</td>\n",
       "      <td>84.82</td>\n",
       "      <td>38.33</td>\n",
       "      <td>5.53</td>\n",
       "      <td>4.30</td>\n",
       "      <td>0.54</td>\n",
       "      <td>295.34</td>\n",
       "      <td>318.58</td>\n",
       "      <td>pass_forward</td>\n",
       "      <td>79848.0</td>\n",
       "      <td>...</td>\n",
       "      <td>C</td>\n",
       "      <td>10</td>\n",
       "      <td>10</td>\n",
       "      <td>0.261827</td>\n",
       "      <td>False</td>\n",
       "      <td>09/06/2018</td>\n",
       "      <td>20:20:00</td>\n",
       "      <td>PHI</td>\n",
       "      <td>ATL</td>\n",
       "      <td>1</td>\n",
       "    </tr>\n",
       "    <tr>\n",
       "      <th>492</th>\n",
       "      <td>2018-09-07T01:07:18.099Z</td>\n",
       "      <td>80.69</td>\n",
       "      <td>44.91</td>\n",
       "      <td>3.11</td>\n",
       "      <td>6.67</td>\n",
       "      <td>0.34</td>\n",
       "      <td>155.11</td>\n",
       "      <td>297.88</td>\n",
       "      <td>pass_forward</td>\n",
       "      <td>2495454.0</td>\n",
       "      <td>...</td>\n",
       "      <td>C</td>\n",
       "      <td>10</td>\n",
       "      <td>10</td>\n",
       "      <td>0.261827</td>\n",
       "      <td>False</td>\n",
       "      <td>09/06/2018</td>\n",
       "      <td>20:20:00</td>\n",
       "      <td>PHI</td>\n",
       "      <td>ATL</td>\n",
       "      <td>1</td>\n",
       "    </tr>\n",
       "    <tr>\n",
       "      <th>503</th>\n",
       "      <td>2018-09-07T01:07:18.099Z</td>\n",
       "      <td>96.90</td>\n",
       "      <td>26.97</td>\n",
       "      <td>2.05</td>\n",
       "      <td>3.76</td>\n",
       "      <td>0.22</td>\n",
       "      <td>NaN</td>\n",
       "      <td>NaN</td>\n",
       "      <td>pass_forward</td>\n",
       "      <td>NaN</td>\n",
       "      <td>...</td>\n",
       "      <td>C</td>\n",
       "      <td>10</td>\n",
       "      <td>10</td>\n",
       "      <td>0.261827</td>\n",
       "      <td>False</td>\n",
       "      <td>09/06/2018</td>\n",
       "      <td>20:20:00</td>\n",
       "      <td>PHI</td>\n",
       "      <td>ATL</td>\n",
       "      <td>1</td>\n",
       "    </tr>\n",
       "    <tr>\n",
       "      <th>505</th>\n",
       "      <td>2018-09-07T01:07:18.200Z</td>\n",
       "      <td>84.46</td>\n",
       "      <td>38.77</td>\n",
       "      <td>5.87</td>\n",
       "      <td>4.26</td>\n",
       "      <td>0.57</td>\n",
       "      <td>306.15</td>\n",
       "      <td>323.06</td>\n",
       "      <td>None</td>\n",
       "      <td>79848.0</td>\n",
       "      <td>...</td>\n",
       "      <td>C</td>\n",
       "      <td>10</td>\n",
       "      <td>10</td>\n",
       "      <td>0.261827</td>\n",
       "      <td>False</td>\n",
       "      <td>09/06/2018</td>\n",
       "      <td>20:20:00</td>\n",
       "      <td>PHI</td>\n",
       "      <td>ATL</td>\n",
       "      <td>1</td>\n",
       "    </tr>\n",
       "    <tr>\n",
       "      <th>506</th>\n",
       "      <td>2018-09-07T01:07:18.200Z</td>\n",
       "      <td>80.46</td>\n",
       "      <td>45.07</td>\n",
       "      <td>2.59</td>\n",
       "      <td>6.70</td>\n",
       "      <td>0.28</td>\n",
       "      <td>145.59</td>\n",
       "      <td>309.96</td>\n",
       "      <td>None</td>\n",
       "      <td>2495454.0</td>\n",
       "      <td>...</td>\n",
       "      <td>C</td>\n",
       "      <td>10</td>\n",
       "      <td>10</td>\n",
       "      <td>0.261827</td>\n",
       "      <td>False</td>\n",
       "      <td>09/06/2018</td>\n",
       "      <td>20:20:00</td>\n",
       "      <td>PHI</td>\n",
       "      <td>ATL</td>\n",
       "      <td>1</td>\n",
       "    </tr>\n",
       "  </tbody>\n",
       "</table>\n",
       "<p>5 rows × 49 columns</p>\n",
       "</div>"
      ],
      "text/plain": [
       "                         time      x      y     s     a   dis       o     dir  \\\n",
       "491  2018-09-07T01:07:18.099Z  84.82  38.33  5.53  4.30  0.54  295.34  318.58   \n",
       "492  2018-09-07T01:07:18.099Z  80.69  44.91  3.11  6.67  0.34  155.11  297.88   \n",
       "503  2018-09-07T01:07:18.099Z  96.90  26.97  2.05  3.76  0.22     NaN     NaN   \n",
       "505  2018-09-07T01:07:18.200Z  84.46  38.77  5.87  4.26  0.57  306.15  323.06   \n",
       "506  2018-09-07T01:07:18.200Z  80.46  45.07  2.59  6.70  0.28  145.59  309.96   \n",
       "\n",
       "            event      nflId  ... passResult  offensePlayResult playResult  \\\n",
       "491  pass_forward    79848.0  ...          C                 10         10   \n",
       "492  pass_forward  2495454.0  ...          C                 10         10   \n",
       "503  pass_forward        NaN  ...          C                 10         10   \n",
       "505          None    79848.0  ...          C                 10         10   \n",
       "506          None  2495454.0  ...          C                 10         10   \n",
       "\n",
       "          epa isDefensivePI    gameDate  gameTimeEastern homeTeamAbbr  \\\n",
       "491  0.261827         False  09/06/2018         20:20:00          PHI   \n",
       "492  0.261827         False  09/06/2018         20:20:00          PHI   \n",
       "503  0.261827         False  09/06/2018         20:20:00          PHI   \n",
       "505  0.261827         False  09/06/2018         20:20:00          PHI   \n",
       "506  0.261827         False  09/06/2018         20:20:00          PHI   \n",
       "\n",
       "    visitorTeamAbbr week  \n",
       "491             ATL    1  \n",
       "492             ATL    1  \n",
       "503             ATL    1  \n",
       "505             ATL    1  \n",
       "506             ATL    1  \n",
       "\n",
       "[5 rows x 49 columns]"
      ]
     },
     "execution_count": 273,
     "metadata": {},
     "output_type": "execute_result"
    }
   ],
   "source": [
    "clean_df.head(5)"
   ]
  },
  {
   "cell_type": "markdown",
   "metadata": {},
   "source": [
    "## Check and plot"
   ]
  },
  {
   "cell_type": "code",
   "execution_count": 266,
   "metadata": {},
   "outputs": [],
   "source": [
    "def animated_slice(df):\n",
    "    fig = px.scatter(\n",
    "        df, \n",
    "        x='x', y='y', color='team', text='jerseyNumber', animation_frame='time', animation_group='displayName',\n",
    "        range_x=[-10, 130], range_y=[-10, 60],\n",
    "        symbol='event',\n",
    "        hover_data=['displayName', 'visitorTeamAbbr', 'jerseyNumber', 's', 'a', 'dis', 'o', 'dir', 'playDirection'])\n",
    "    fig.update_traces(textposition='top center', marker_size=10)\n",
    "    # , transition = {'duration': 500}\n",
    "    fig.update_layout(paper_bgcolor='darkgreen', plot_bgcolor='darkgreen', font_color='white')\n",
    "    \n",
    "    return fig"
   ]
  },
  {
   "cell_type": "code",
   "execution_count": 267,
   "metadata": {},
   "outputs": [],
   "source": [
    "gb_5 = clean_df.groupby(['gameId', 'playId'])"
   ]
  },
  {
   "cell_type": "code",
   "execution_count": 269,
   "metadata": {},
   "outputs": [
    {
     "data": {
      "text/plain": [
       "False    77360\n",
       "True      1074\n",
       "Name: isDefensivePI, dtype: int64"
      ]
     },
     "execution_count": 269,
     "metadata": {},
     "output_type": "execute_result"
    }
   ],
   "source": [
    "clean_df.isDefensivePI.value_counts()"
   ]
  },
  {
   "cell_type": "code",
   "execution_count": 272,
   "metadata": {
    "scrolled": true
   },
   "outputs": [],
   "source": [
    "for i, group_data in enumerate(gb_5):\n",
    "    name, group = group_data\n",
    "    game_id, play_id = name\n",
    "        \n",
    "    is_dpi = (group.isDefensivePI).all()\n",
    "    \n",
    "    if is_dpi:\n",
    "        #fig = animated_slice(group)\n",
    "        #fig.show()"
   ]
  },
  {
   "cell_type": "markdown",
   "metadata": {},
   "source": [
    "## 10 validated visually anih je validirano vizualno i procesiranje je bilo uspješno\n",
    "\n",
    "## Slijedi računanje bitnih featurea"
   ]
  },
  {
   "cell_type": "code",
   "execution_count": 276,
   "metadata": {},
   "outputs": [
    {
     "data": {
      "text/plain": [
       "Index(['time', 'x', 'y', 's', 'event', 'team', 'gameId', 'playId', 'frameId',\n",
       "       'isDefensivePI'],\n",
       "      dtype='object')"
      ]
     },
     "execution_count": 276,
     "metadata": {},
     "output_type": "execute_result"
    }
   ],
   "source": [
    "min_df = clean_df[['time', 'x', 'y', 's', 'event', 'team', 'gameId', 'playId', 'frameId', 'isDefensivePI']]\n",
    "min_df.columns"
   ]
  },
  {
   "cell_type": "code",
   "execution_count": 277,
   "metadata": {},
   "outputs": [],
   "source": [
    "gb_6 = clean_df.groupby(['gameId', 'playId', 'frameId'])"
   ]
  },
  {
   "cell_type": "code",
   "execution_count": 280,
   "metadata": {},
   "outputs": [
    {
     "data": {
      "text/plain": [
       "26155"
      ]
     },
     "execution_count": 280,
     "metadata": {},
     "output_type": "execute_result"
    }
   ],
   "source": [
    "len(gb_6)"
   ]
  },
  {
   "cell_type": "code",
   "execution_count": 286,
   "metadata": {},
   "outputs": [
    {
     "data": {
      "text/plain": [
       "(78434, 49)"
      ]
     },
     "execution_count": 286,
     "metadata": {},
     "output_type": "execute_result"
    }
   ],
   "source": [
    "clean_df.shape"
   ]
  },
  {
   "cell_type": "code",
   "execution_count": 287,
   "metadata": {},
   "outputs": [],
   "source": [
    "def calculate_distance(x1: int, y1: int, x2: int, y2: int) -> int:\n",
    "    return np.sqrt(np.square(x1 - x2) + np.square(y1 - y2))"
   ]
  },
  {
   "cell_type": "code",
   "execution_count": 316,
   "metadata": {},
   "outputs": [
    {
     "name": "stdout",
     "output_type": "stream",
     "text": [
      "26155/26155\r"
     ]
    }
   ],
   "source": [
    "calc_df = pd.DataFrame(\n",
    "    columns=[\n",
    "        'time', \n",
    "        'p1_p2_d', 'p1_b_d', 'p2_b_d', \n",
    "        'p1_s', 'p2_s', 'b_s',\n",
    "        'event', 'gameId', 'playId', 'frameId', 'isDefensivePI'\n",
    "    ]\n",
    ")\n",
    "i = 0\n",
    "groups = len(gb_6)\n",
    "for name, group in gb_6:\n",
    "    game_id, play_id, frameId = name\n",
    "    \n",
    "    ball = group[group.team == 'football'].head(1).squeeze()\n",
    "    p1 = group[group.team == 'home'].head(1).squeeze()\n",
    "    p2 = group[group.team == 'away'].head(1).squeeze()\n",
    "    \n",
    "    group_row = group.head(1).squeeze()\n",
    "    calc_df = calc_df.append(\n",
    "        {\n",
    "            'time': group_row.time, \n",
    "            'p1_p2_d': calculate_distance(p1.x, p1.y, p2.x, p2.y), \n",
    "            'p1_b_d': calculate_distance(p1.x, p1.y, ball.x, ball.y), \n",
    "            'p2_b_d': calculate_distance(p2.x, p2.y, ball.x, ball.y),\n",
    "            'p1_s': p1.s, \n",
    "            'p2_s': p2.s, \n",
    "            'b_s': ball.s,\n",
    "            'event': group_row.event, \n",
    "            'gameId': group_row.gameId, \n",
    "            'playId': group_row.playId, \n",
    "            'frameId': group_row.frameId, \n",
    "            'isDefensivePI': group_row.isDefensivePI\n",
    "        }, \n",
    "        ignore_index=True\n",
    "    )\n",
    "    \n",
    "    i +=1\n",
    "    print(f'{i}/{groups}', end='\\r')"
   ]
  },
  {
   "cell_type": "code",
   "execution_count": 320,
   "metadata": {},
   "outputs": [
    {
     "data": {
      "text/html": [
       "<div>\n",
       "<style scoped>\n",
       "    .dataframe tbody tr th:only-of-type {\n",
       "        vertical-align: middle;\n",
       "    }\n",
       "\n",
       "    .dataframe tbody tr th {\n",
       "        vertical-align: top;\n",
       "    }\n",
       "\n",
       "    .dataframe thead th {\n",
       "        text-align: right;\n",
       "    }\n",
       "</style>\n",
       "<table border=\"1\" class=\"dataframe\">\n",
       "  <thead>\n",
       "    <tr style=\"text-align: right;\">\n",
       "      <th></th>\n",
       "      <th>time</th>\n",
       "      <th>p1_p2_d</th>\n",
       "      <th>p1_b_d</th>\n",
       "      <th>p2_b_d</th>\n",
       "      <th>p1_s</th>\n",
       "      <th>p2_s</th>\n",
       "      <th>b_s</th>\n",
       "      <th>event</th>\n",
       "      <th>gameId</th>\n",
       "      <th>playId</th>\n",
       "      <th>frameId</th>\n",
       "      <th>isDefensivePI</th>\n",
       "    </tr>\n",
       "  </thead>\n",
       "  <tbody>\n",
       "    <tr>\n",
       "      <th>0</th>\n",
       "      <td>2018-09-07T01:07:18.099Z</td>\n",
       "      <td>7.76874</td>\n",
       "      <td>16.5824</td>\n",
       "      <td>24.1787</td>\n",
       "      <td>5.53</td>\n",
       "      <td>3.11</td>\n",
       "      <td>2.05</td>\n",
       "      <td>pass_forward</td>\n",
       "      <td>2018090600</td>\n",
       "      <td>75</td>\n",
       "      <td>36</td>\n",
       "      <td>False</td>\n",
       "    </tr>\n",
       "    <tr>\n",
       "      <th>1</th>\n",
       "      <td>2018-09-07T01:07:18.200Z</td>\n",
       "      <td>7.46257</td>\n",
       "      <td>17.2778</td>\n",
       "      <td>24.5724</td>\n",
       "      <td>5.87</td>\n",
       "      <td>2.59</td>\n",
       "      <td>1.74</td>\n",
       "      <td>None</td>\n",
       "      <td>2018090600</td>\n",
       "      <td>75</td>\n",
       "      <td>37</td>\n",
       "      <td>False</td>\n",
       "    </tr>\n",
       "    <tr>\n",
       "      <th>2</th>\n",
       "      <td>2018-09-07T01:07:18.299Z</td>\n",
       "      <td>7.09597</td>\n",
       "      <td>15.235</td>\n",
       "      <td>22.1209</td>\n",
       "      <td>6.15</td>\n",
       "      <td>2.25</td>\n",
       "      <td>23.01</td>\n",
       "      <td>None</td>\n",
       "      <td>2018090600</td>\n",
       "      <td>75</td>\n",
       "      <td>38</td>\n",
       "      <td>False</td>\n",
       "    </tr>\n",
       "    <tr>\n",
       "      <th>3</th>\n",
       "      <td>2018-09-07T01:07:18.400Z</td>\n",
       "      <td>6.68027</td>\n",
       "      <td>12.5596</td>\n",
       "      <td>19.0074</td>\n",
       "      <td>6.38</td>\n",
       "      <td>2.18</td>\n",
       "      <td>22.63</td>\n",
       "      <td>None</td>\n",
       "      <td>2018090600</td>\n",
       "      <td>75</td>\n",
       "      <td>39</td>\n",
       "      <td>False</td>\n",
       "    </tr>\n",
       "    <tr>\n",
       "      <th>4</th>\n",
       "      <td>2018-09-07T01:07:18.500Z</td>\n",
       "      <td>6.23705</td>\n",
       "      <td>10.8</td>\n",
       "      <td>16.7732</td>\n",
       "      <td>6.57</td>\n",
       "      <td>2.28</td>\n",
       "      <td>22.09</td>\n",
       "      <td>None</td>\n",
       "      <td>2018090600</td>\n",
       "      <td>75</td>\n",
       "      <td>40</td>\n",
       "      <td>False</td>\n",
       "    </tr>\n",
       "  </tbody>\n",
       "</table>\n",
       "</div>"
      ],
      "text/plain": [
       "                       time  p1_p2_d   p1_b_d   p2_b_d  p1_s  p2_s    b_s  \\\n",
       "0  2018-09-07T01:07:18.099Z  7.76874  16.5824  24.1787  5.53  3.11   2.05   \n",
       "1  2018-09-07T01:07:18.200Z  7.46257  17.2778  24.5724  5.87  2.59   1.74   \n",
       "2  2018-09-07T01:07:18.299Z  7.09597   15.235  22.1209  6.15  2.25  23.01   \n",
       "3  2018-09-07T01:07:18.400Z  6.68027  12.5596  19.0074  6.38  2.18  22.63   \n",
       "4  2018-09-07T01:07:18.500Z  6.23705     10.8  16.7732  6.57  2.28  22.09   \n",
       "\n",
       "          event      gameId playId frameId isDefensivePI  \n",
       "0  pass_forward  2018090600     75      36         False  \n",
       "1          None  2018090600     75      37         False  \n",
       "2          None  2018090600     75      38         False  \n",
       "3          None  2018090600     75      39         False  \n",
       "4          None  2018090600     75      40         False  "
      ]
     },
     "execution_count": 320,
     "metadata": {},
     "output_type": "execute_result"
    }
   ],
   "source": [
    "calc_df.head(5)"
   ]
  },
  {
   "cell_type": "code",
   "execution_count": 321,
   "metadata": {},
   "outputs": [],
   "source": [
    "calc_df.to_csv(os.path.join(INTERIM_DATA_DIR, f'processing_v3_dataframe_week1.csv'), index=False)"
   ]
  }
 ],
 "metadata": {
  "kernelspec": {
   "display_name": "NFL env",
   "language": "python",
   "name": "nfl_env"
  },
  "language_info": {
   "codemirror_mode": {
    "name": "ipython",
    "version": 3
   },
   "file_extension": ".py",
   "mimetype": "text/x-python",
   "name": "python",
   "nbconvert_exporter": "python",
   "pygments_lexer": "ipython3",
   "version": "3.8.5"
  }
 },
 "nbformat": 4,
 "nbformat_minor": 2
}
